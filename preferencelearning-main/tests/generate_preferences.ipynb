{
 "cells": [
  {
   "cell_type": "code",
   "execution_count": 3,
   "metadata": {},
   "outputs": [
    {
     "name": "stdout",
     "output_type": "stream",
     "text": [
      "             x         y  degree  total_score\n",
      "6383  0.945350  0.863834     1.0    -0.260993\n",
      "377   0.919748  0.850561     1.0    -0.255454\n",
      "1843  0.934974  0.860986     1.0    -0.254876\n",
      "             x         y    degree  total_score\n",
      "6413  0.016242  0.000223  0.333333     0.699365\n",
      "4117  0.001055  0.053445  0.333333     0.694302\n",
      "6183  0.021039  0.004672  0.333333     0.687447\n"
     ]
    },
    {
     "name": "stderr",
     "output_type": "stream",
     "text": [
      "sampling pairs: 100%|██████████| 300000/300000 [01:01<00:00, 4863.87it/s] \n"
     ]
    },
    {
     "name": "stdout",
     "output_type": "stream",
     "text": [
      "✓ preferences.parquet salvato con 300000 coppie\n"
     ]
    }
   ],
   "source": [
    "import numpy as np, pandas as pd, random\n",
    "from tqdm import tqdm\n",
    "\n",
    "# --------------------------------------------------------\n",
    "# 1) carica\n",
    "# --------------------------------------------------------\n",
    "df = pd.read_parquet(\"positions.parquet\")\n",
    "\n",
    "# --------------------------------------------------------\n",
    "# 3) pesi\n",
    "# --------------------------------------------------------\n",
    "w_path, w_wall, w_goal, w_deg = 0.6, 0.15, 0.15, 0.15\n",
    "\n",
    "# --------------------------------------------------------\n",
    "# 4) score (minore è migliore)\n",
    "# --------------------------------------------------------\n",
    "df[\"total_score\"] = (\n",
    "      w_path * df.path_distance        #  + penalità: cammino lungo\n",
    "    + w_goal * df.distance_to_goal        #  + penalità: lontano dal goal\n",
    "    - w_deg  * df.degree         #  + penalità: vicolo cieco\n",
    "    - w_wall * df.distance_from_wall        #  – bonus: punti “larghi”, lontani dai muri\n",
    ")\n",
    "\n",
    "# quick sanity\n",
    "print(df.nsmallest(3,\"total_score\")[[\"x\",\"y\",\"degree\",\"total_score\"]])\n",
    "print(df.nlargest (3,\"total_score\")[[\"x\",\"y\",\"degree\",\"total_score\"]])\n",
    "\n",
    "# --------------------------------------------------------\n",
    "# 5) genera 200k coppie (50 % facili / 50 % difficili)\n",
    "# --------------------------------------------------------\n",
    "def sample_pairs(df, num_pairs=200_000, hard_ratio=0.7, thresh=0.05):\n",
    "    idx     = df.index.to_numpy()\n",
    "    scores  = df[\"total_score\"].to_numpy()\n",
    "    pairs   = set()\n",
    "    n_hard  = int(num_pairs * hard_ratio)\n",
    "    pbar    = tqdm(total=num_pairs, desc=\"sampling pairs\")\n",
    "    while len(pairs) < num_pairs:\n",
    "        i, j = np.random.choice(idx, 2, replace=False)\n",
    "        si, sj = scores[i], scores[j]\n",
    "        if si == sj:          # pari → ignora\n",
    "            continue\n",
    "        better, worse = (i, j) if si < sj else (j, i)  # score minore è migliore\n",
    "        delta = abs(si - sj)\n",
    "        want_hard = len(pairs) < n_hard\n",
    "        if (want_hard and delta < thresh) or (not want_hard and delta >= thresh):\n",
    "            pair = (df.at[better,\"x\"], df.at[better,\"y\"],\n",
    "                    df.at[worse,\"x\"],  df.at[worse,\"y\"], 1)\n",
    "            if pair not in pairs:\n",
    "                pairs.add(pair); pbar.update(1)\n",
    "    pbar.close()\n",
    "    return list(pairs)\n",
    "\n",
    "pairs = sample_pairs(df, num_pairs=300_000, hard_ratio=0.3)\n",
    "\n",
    "# --------------------------------------------------------\n",
    "# 6) salva\n",
    "# --------------------------------------------------------\n",
    "pd.DataFrame(pairs,\n",
    "    columns=[\"x_better\",\"y_better\",\"x_worse\",\"y_worse\",\"preference\"]\n",
    ").to_parquet(\"preferences.parquet\", index=False)\n",
    "\n",
    "print(\"✓ preferences.parquet salvato con\", len(pairs), \"coppie\")\n"
   ]
  },
  {
   "cell_type": "code",
   "execution_count": null,
   "metadata": {},
   "outputs": [],
   "source": []
  }
 ],
 "metadata": {
  "kernelspec": {
   "display_name": "bmwTeam",
   "language": "python",
   "name": "python3"
  },
  "language_info": {
   "codemirror_mode": {
    "name": "ipython",
    "version": 3
   },
   "file_extension": ".py",
   "mimetype": "text/x-python",
   "name": "python",
   "nbconvert_exporter": "python",
   "pygments_lexer": "ipython3",
   "version": "3.13.2"
  }
 },
 "nbformat": 4,
 "nbformat_minor": 2
}
