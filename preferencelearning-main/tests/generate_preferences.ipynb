{
 "cells": [
  {
   "cell_type": "code",
   "execution_count": 1,
   "metadata": {},
   "outputs": [
    {
     "name": "stdout",
     "output_type": "stream",
     "text": [
      "             x         y  degree  total_score\n",
      "3229  0.014095  0.000662       1    -0.588133\n",
      "827   0.000708  0.013428       1    -0.587952\n",
      "3575  0.072639  0.001336       1    -0.580469\n",
      "             x         y  degree  total_score\n",
      "3380  0.940444  0.947991       2     0.288656\n",
      "1459  0.941289  0.854145       3     0.281963\n",
      "5683  0.924581  0.944208       2     0.279894\n"
     ]
    },
    {
     "name": "stderr",
     "output_type": "stream",
     "text": [
      "sampling pairs: 100%|██████████| 200000/200000 [01:08<00:00, 2900.58it/s] \n"
     ]
    },
    {
     "name": "stdout",
     "output_type": "stream",
     "text": [
      "✓ preferences.parquet salvato con 200000 coppie\n"
     ]
    }
   ],
   "source": [
    "import numpy as np, pandas as pd, random\n",
    "from tqdm import tqdm\n",
    "\n",
    "# --------------------------------------------------------\n",
    "# 1) carica\n",
    "# --------------------------------------------------------\n",
    "df = pd.read_parquet(\"positions.parquet\")\n",
    "\n",
    "# --------------------------------------------------------\n",
    "# 2) normalizza feature 0-1\n",
    "# --------------------------------------------------------\n",
    "df[\"S_path\"]  = df[\"path_distance\"]   / df[\"path_distance\"].max()\n",
    "df[\"S_goal\"]  = df[\"distance_to_goal\"] / np.sqrt(2)\n",
    "df[\"S_wall\"] = df[\"distance_from_wall\"] / df[\"distance_from_wall\"].max()\n",
    "\n",
    "df[\"q_degree\"] = (df[\"degree\"] - 1) / 3.0          # 1→0  … 4→1\n",
    "df[\"S_deg\"]    = 1.0 - df[\"q_degree\"]              # 0 buono, 1 cattivo\n",
    "\n",
    "# --------------------------------------------------------\n",
    "# 3) pesi\n",
    "# --------------------------------------------------------\n",
    "w_path, w_wall, w_goal, w_deg = 0.5, 0.3, 0.15, 0.05\n",
    "\n",
    "# --------------------------------------------------------\n",
    "# 4) score (minore è migliore)\n",
    "# --------------------------------------------------------\n",
    "df[\"total_score\"] = (\n",
    "      -w_path * df.S_path\n",
    "    +  w_wall * df.S_wall      # bonus: più grande → meglio → sottrai con segno meno\n",
    "    - w_goal * df.S_goal\n",
    "    +  w_deg  * df.S_deg       # penalità: più grande → peggio → aggiungi\n",
    ")\n",
    "\n",
    "# quick sanity\n",
    "print(df.nsmallest(3,\"total_score\")[[\"x\",\"y\",\"degree\",\"total_score\"]])\n",
    "print(df.nlargest (3,\"total_score\")[[\"x\",\"y\",\"degree\",\"total_score\"]])\n",
    "\n",
    "# --------------------------------------------------------\n",
    "# 5) genera 200k coppie (50 % facili / 50 % difficili)\n",
    "# --------------------------------------------------------\n",
    "def sample_pairs(df, num_pairs=200_000, hard_ratio=0.7, thresh=0.05):\n",
    "    idx     = df.index.to_numpy()\n",
    "    scores  = df[\"total_score\"].to_numpy()\n",
    "    pairs   = set()\n",
    "    n_hard  = int(num_pairs * hard_ratio)\n",
    "    pbar    = tqdm(total=num_pairs, desc=\"sampling pairs\")\n",
    "    while len(pairs) < num_pairs:\n",
    "        i, j = np.random.choice(idx, 2, replace=False)\n",
    "        si, sj = scores[i], scores[j]\n",
    "        if si == sj:          # pari → ignora\n",
    "            continue\n",
    "        better, worse = (i, j) if si < sj else (j, i)  # score minore è migliore\n",
    "        delta = abs(si - sj)\n",
    "        want_hard = len(pairs) < n_hard\n",
    "        if (want_hard and delta < thresh) or (not want_hard and delta >= thresh):\n",
    "            pair = (df.at[better,\"x\"], df.at[better,\"y\"],\n",
    "                    df.at[worse,\"x\"],  df.at[worse,\"y\"], 1)\n",
    "            if pair not in pairs:\n",
    "                pairs.add(pair); pbar.update(1)\n",
    "    pbar.close()\n",
    "    return list(pairs)\n",
    "\n",
    "pairs = sample_pairs(df, num_pairs=200_000)\n",
    "\n",
    "# --------------------------------------------------------\n",
    "# 6) salva\n",
    "# --------------------------------------------------------\n",
    "pd.DataFrame(pairs,\n",
    "    columns=[\"x_better\",\"y_better\",\"x_worse\",\"y_worse\",\"preference\"]\n",
    ").to_parquet(\"preferences.parquet\", index=False)\n",
    "\n",
    "print(\"✓ preferences.parquet salvato con\", len(pairs), \"coppie\")\n"
   ]
  },
  {
   "cell_type": "code",
   "execution_count": null,
   "metadata": {},
   "outputs": [],
   "source": []
  }
 ],
 "metadata": {
  "kernelspec": {
   "display_name": "bmwTeam",
   "language": "python",
   "name": "python3"
  },
  "language_info": {
   "codemirror_mode": {
    "name": "ipython",
    "version": 3
   },
   "file_extension": ".py",
   "mimetype": "text/x-python",
   "name": "python",
   "nbconvert_exporter": "python",
   "pygments_lexer": "ipython3",
   "version": "3.13.2"
  }
 },
 "nbformat": 4,
 "nbformat_minor": 2
}
