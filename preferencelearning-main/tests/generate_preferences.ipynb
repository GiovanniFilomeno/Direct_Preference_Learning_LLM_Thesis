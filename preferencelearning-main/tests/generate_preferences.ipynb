{
 "cells": [
  {
   "cell_type": "code",
   "execution_count": null,
   "metadata": {},
   "outputs": [
    {
     "name": "stdout",
     "output_type": "stream",
     "text": [
      "Generazione del dataset di preferenze completata!\n"
     ]
    }
   ],
   "source": [
    "import numpy as np\n",
    "import pandas as pd\n",
    "import random\n",
    "\n",
    "# Load the dataset and scores\n",
    "df_positions = pd.read_csv(\"positions.csv\")\n",
    "\n",
    "# Score weights\n",
    "weight_dead_end = 5  # Strong penalization of dead-zones \n",
    "weight_distance_to_goal = 3  # Distance to goal \n",
    "weight_distance_from_wall = 1  # Distance to walls \n",
    "\n",
    "# Function to evaluate the total score \n",
    "def compute_total_score(row):\n",
    "    return (\n",
    "        -weight_dead_end * row[\"is_dead_end\"] +\n",
    "        -weight_distance_to_goal * row[\"distance_to_goal\"] +\n",
    "        weight_distance_from_wall * row[\"distance_from_wall\"]\n",
    "    )\n",
    "\n",
    "# Adding column \"total_score\" \n",
    "df_positions[\"total_score\"] = df_positions.apply(compute_total_score, axis=1)\n",
    "\n",
    "# Generate preference pairs\n",
    "def generate_preference_pairs(df, num_pairs=50000):\n",
    "    pairs = []\n",
    "    for _ in range(num_pairs):\n",
    "        a, b = df.sample(n=2).to_dict(orient='records')\n",
    "        better = a if a[\"total_score\"] > b[\"total_score\"] else b\n",
    "        worse = b if a[\"total_score\"] > b[\"total_score\"] else a\n",
    "        pairs.append((better[\"x\"], better[\"y\"], worse[\"x\"], worse[\"y\"], 1))  # 1 indicates the preference\n",
    "    return pairs\n",
    "\n",
    "# Generate preference pairs\n",
    "preference_pairs = generate_preference_pairs(df_positions, num_pairs=100000)\n",
    "\n",
    "# Save the dataset\n",
    "df_preferences = pd.DataFrame(preference_pairs, columns=[\"x_better\", \"y_better\", \"x_worse\", \"y_worse\", \"preference\"])\n",
    "df_preferences.to_csv(\"preferences.csv\", index=False)\n",
    "\n",
    "print(\"Generation of preferences dataset compleated\")\n"
   ]
  },
  {
   "cell_type": "code",
   "execution_count": null,
   "metadata": {},
   "outputs": [],
   "source": []
  }
 ],
 "metadata": {
  "kernelspec": {
   "display_name": "pref_lern",
   "language": "python",
   "name": "python3"
  },
  "language_info": {
   "codemirror_mode": {
    "name": "ipython",
    "version": 3
   },
   "file_extension": ".py",
   "mimetype": "text/x-python",
   "name": "python",
   "nbconvert_exporter": "python",
   "pygments_lexer": "ipython3",
   "version": "3.13.0"
  }
 },
 "nbformat": 4,
 "nbformat_minor": 2
}
