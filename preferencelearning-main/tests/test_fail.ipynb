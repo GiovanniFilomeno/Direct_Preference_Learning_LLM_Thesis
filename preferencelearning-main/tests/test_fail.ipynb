{
 "cells": [
  {
   "cell_type": "code",
   "execution_count": 3,
   "metadata": {},
   "outputs": [
    {
     "name": "stdout",
     "output_type": "stream",
     "text": [
      "+   +---+---+---+---+---+---+---+---+---+\n",
      "    |   |   |   |   |   |   |   |   |   |\n",
      "+---+---+---+---+---+---+---+---+---+---+\n",
      "|   |   |   |   |   |   |   |   |   |   |\n",
      "+---+   +---+---+---+---+---+---+---+---+\n",
      "|   |   |   |   |   |   |   |   |   |   |\n",
      "+---+   +---+---+---+---+---+---+---+---+\n",
      "|   |   |   |   |   |   |   |   |   |   |\n",
      "+---+   +---+---+---+---+---+---+---+---+\n",
      "|   |               |   |   |   |   |   |\n",
      "+---+   +---+---+---+---+---+---+---+---+\n",
      "|   |   |   |   |   |   |   |   |   |   |\n",
      "+---+   +---+---+---+---+---+---+---+---+\n",
      "|   |   |   |   |   |   |   |   |   |   |\n",
      "+---+   +---+---+   +---+---+---+---+---+\n",
      "|   |   |   |   |   |   |   |   |   |   |\n",
      "+---+   +---+---+   +---+---+---+---+---+\n",
      "|   |               |   |   |   |   |   |\n",
      "+---+---+---+---+---+---+---+---+---+---+\n",
      "|   |   |   |   |   |   |   |   |   |   |\n",
      "+---+---+---+---+---+---+---+---+---+---+\n"
     ]
    }
   ],
   "source": [
    "import unittest\n",
    "import numpy as np\n",
    "import os\n",
    "import sys\n",
    "\n",
    "module_path = os.path.abspath(\"../src\")\n",
    "if module_path not in sys.path:\n",
    "    sys.path.append(module_path)\n",
    "\n",
    "from maze_env import MazeEnv, draw_map\n",
    "from maze import Maze\n",
    "import matplotlib.pyplot as plt\n",
    "import matplotlib.animation as animation\n",
    "import imageio\n",
    "import os\n",
    "\n",
    "maze = Maze(10, 10, 0, 0)\n",
    "maze.make_maze_fail()\n",
    "maze.display()"
   ]
  },
  {
   "cell_type": "code",
   "execution_count": null,
   "metadata": {},
   "outputs": [],
   "source": []
  }
 ],
 "metadata": {
  "kernelspec": {
   "display_name": "pref_lern",
   "language": "python",
   "name": "python3"
  },
  "language_info": {
   "codemirror_mode": {
    "name": "ipython",
    "version": 3
   },
   "file_extension": ".py",
   "mimetype": "text/x-python",
   "name": "python",
   "nbconvert_exporter": "python",
   "pygments_lexer": "ipython3",
   "version": "3.13.0"
  }
 },
 "nbformat": 4,
 "nbformat_minor": 2
}
